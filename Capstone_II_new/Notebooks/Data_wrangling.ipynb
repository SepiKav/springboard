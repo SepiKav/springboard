{
 "cells": [
  {
   "cell_type": "markdown",
   "metadata": {
    "colab_type": "text",
    "id": "2cI3hdxwGqju"
   },
   "source": [
    "# Supervised linear regression machine learning model to predict the primary dendritic arm spacing"
   ]
  },
  {
   "cell_type": "markdown",
   "metadata": {
    "colab_type": "text",
    "id": "VaawwyomGqjw"
   },
   "source": [
    "# Project Overview\n",
    "\n",
    "we develop a supervised-regression machine learning model to obtain a correlation between the PDAS and velocity and temperature gradient\n"
   ]
  },
  {
   "cell_type": "markdown",
   "metadata": {},
   "source": [
    "# Data Wrangling"
   ]
  },
  {
   "cell_type": "markdown",
   "metadata": {
    "colab_type": "text",
    "id": "HXNI7VSYGqjx"
   },
   "source": [
    "### 1. Sourcing and loading"
   ]
  },
  {
   "cell_type": "markdown",
   "metadata": {
    "colab_type": "text",
    "id": "yh_xcbPcGqjy"
   },
   "source": [
    "#### 1a. Import relevant libraries "
   ]
  },
  {
   "cell_type": "code",
   "execution_count": 1,
   "metadata": {
    "colab": {},
    "colab_type": "code",
    "id": "EbJiKGCdGqjz"
   },
   "outputs": [],
   "source": [
    "# Import relevant libraries and packages.\n",
    "import numpy as np \n",
    "import pandas as pd \n",
    "import math\n",
    "import matplotlib.pyplot as plt \n",
    "import seaborn as sns # For all our visualization needs.\n",
    "import statsmodels.api as sm # Second library for linear regression model based on OLS\n",
    "from statsmodels.graphics.api import abline_plot # What does this do? Find out and type here.\n",
    "from sklearn.metrics import mean_squared_error, r2_score # acess performance.\n",
    "from sklearn.model_selection import train_test_split,cross_validate,KFold,cross_val_score #split data in training and testing dataset\n",
    "from sklearn import linear_model, preprocessing # linear regression models\n",
    "import warnings # For handling error messages.\n",
    "# Don't worry about the following two instructions: they just suppress warnings that could occur later. \n",
    "warnings.simplefilter(action=\"ignore\", category=FutureWarning)\n",
    "warnings.filterwarnings(action=\"ignore\", module=\"scipy\", message=\"^internal gelsd\")"
   ]
  },
  {
   "cell_type": "markdown",
   "metadata": {
    "colab_type": "text",
    "id": "T_T_6Cv1Gqj2"
   },
   "source": [
    "#### 1b. Load the data"
   ]
  },
  {
   "cell_type": "code",
   "execution_count": 2,
   "metadata": {
    "colab": {},
    "colab_type": "code",
    "id": "KTnM8zA6Gqj3"
   },
   "outputs": [],
   "source": [
    "# Load the data. \n",
    "df=pd.read_csv(\"PDAS_all.csv\")"
   ]
  },
  {
   "cell_type": "markdown",
   "metadata": {
    "colab_type": "text",
    "id": "-zYSi9yRGqj6"
   },
   "source": [
    "#### 1c. Exploring the data"
   ]
  },
  {
   "cell_type": "markdown",
   "metadata": {},
   "source": [
    "We have generated the data, so we know they are almost clean. However, I perfowm the typical data wrangling steps use dto idensify if there are any problems with the data files"
   ]
  },
  {
   "cell_type": "code",
   "execution_count": 3,
   "metadata": {
    "colab": {},
    "colab_type": "code",
    "id": "fAOOJdgdGqj6",
    "scrolled": true
   },
   "outputs": [
    {
     "data": {
      "text/html": [
       "<div>\n",
       "<style scoped>\n",
       "    .dataframe tbody tr th:only-of-type {\n",
       "        vertical-align: middle;\n",
       "    }\n",
       "\n",
       "    .dataframe tbody tr th {\n",
       "        vertical-align: top;\n",
       "    }\n",
       "\n",
       "    .dataframe thead th {\n",
       "        text-align: right;\n",
       "    }\n",
       "</style>\n",
       "<table border=\"1\" class=\"dataframe\">\n",
       "  <thead>\n",
       "    <tr style=\"text-align: right;\">\n",
       "      <th></th>\n",
       "      <th>V</th>\n",
       "      <th>G</th>\n",
       "      <th>Mat_HB</th>\n",
       "      <th>Mat_KF</th>\n",
       "      <th>PDAS</th>\n",
       "    </tr>\n",
       "  </thead>\n",
       "  <tbody>\n",
       "    <tr>\n",
       "      <th>0</th>\n",
       "      <td>0.01</td>\n",
       "      <td>10000000.0</td>\n",
       "      <td>2.020000e-14</td>\n",
       "      <td>2.570000e-13</td>\n",
       "      <td>2.468570e-06</td>\n",
       "    </tr>\n",
       "    <tr>\n",
       "      <th>1</th>\n",
       "      <td>0.02</td>\n",
       "      <td>10000000.0</td>\n",
       "      <td>2.020000e-14</td>\n",
       "      <td>2.570000e-13</td>\n",
       "      <td>2.160000e-06</td>\n",
       "    </tr>\n",
       "    <tr>\n",
       "      <th>2</th>\n",
       "      <td>0.03</td>\n",
       "      <td>10000000.0</td>\n",
       "      <td>2.020000e-14</td>\n",
       "      <td>2.570000e-13</td>\n",
       "      <td>1.080000e-06</td>\n",
       "    </tr>\n",
       "    <tr>\n",
       "      <th>3</th>\n",
       "      <td>0.04</td>\n",
       "      <td>10000000.0</td>\n",
       "      <td>2.020000e-14</td>\n",
       "      <td>2.570000e-13</td>\n",
       "      <td>9.257140e-07</td>\n",
       "    </tr>\n",
       "    <tr>\n",
       "      <th>4</th>\n",
       "      <td>0.05</td>\n",
       "      <td>10000000.0</td>\n",
       "      <td>2.020000e-14</td>\n",
       "      <td>2.570000e-13</td>\n",
       "      <td>8.100000e-07</td>\n",
       "    </tr>\n",
       "  </tbody>\n",
       "</table>\n",
       "</div>"
      ],
      "text/plain": [
       "      V           G        Mat_HB        Mat_KF          PDAS\n",
       "0  0.01  10000000.0  2.020000e-14  2.570000e-13  2.468570e-06\n",
       "1  0.02  10000000.0  2.020000e-14  2.570000e-13  2.160000e-06\n",
       "2  0.03  10000000.0  2.020000e-14  2.570000e-13  1.080000e-06\n",
       "3  0.04  10000000.0  2.020000e-14  2.570000e-13  9.257140e-07\n",
       "4  0.05  10000000.0  2.020000e-14  2.570000e-13  8.100000e-07"
      ]
     },
     "execution_count": 3,
     "metadata": {},
     "output_type": "execute_result"
    }
   ],
   "source": [
    "# Check out its appearance. \n",
    "df.head(n=5)"
   ]
  },
  {
   "cell_type": "code",
   "execution_count": 4,
   "metadata": {
    "colab": {},
    "colab_type": "code",
    "id": "bylOynLnGqj9"
   },
   "outputs": [
    {
     "name": "stdout",
     "output_type": "stream",
     "text": [
      "<class 'pandas.core.frame.DataFrame'>\n",
      "RangeIndex: 250 entries, 0 to 249\n",
      "Data columns (total 5 columns):\n",
      " #   Column  Non-Null Count  Dtype  \n",
      "---  ------  --------------  -----  \n",
      " 0   V       250 non-null    float64\n",
      " 1   G       250 non-null    float64\n",
      " 2   Mat_HB  250 non-null    float64\n",
      " 3   Mat_KF  250 non-null    float64\n",
      " 4   PDAS    250 non-null    float64\n",
      "dtypes: float64(5)\n",
      "memory usage: 9.9 KB\n"
     ]
    }
   ],
   "source": [
    "# overview of the data\n",
    "df.info()"
   ]
  },
  {
   "cell_type": "markdown",
   "metadata": {
    "colab_type": "text",
    "id": "6yLvMH3CGqj_"
   },
   "source": [
    "Because I have already generated the data I know the data are all in correct format and all the rows have correct values.\n",
    "However this shows all columns have correct data type. They also do not have a missing value"
   ]
  },
  {
   "cell_type": "markdown",
   "metadata": {},
   "source": [
    " \n",
    "\n"
   ]
  },
  {
   "cell_type": "code",
   "execution_count": 5,
   "metadata": {
    "colab": {},
    "colab_type": "code",
    "id": "lsuMtWKTGqkA"
   },
   "outputs": [
    {
     "data": {
      "text/plain": [
       "V         False\n",
       "G         False\n",
       "Mat_HB    False\n",
       "Mat_KF    False\n",
       "PDAS      False\n",
       "dtype: bool"
      ]
     },
     "execution_count": 5,
     "metadata": {},
     "output_type": "execute_result"
    }
   ],
   "source": [
    "df.isna().any()"
   ]
  },
  {
   "cell_type": "markdown",
   "metadata": {},
   "source": [
    "As expected, we do not have any NULL values"
   ]
  },
  {
   "cell_type": "code",
   "execution_count": 6,
   "metadata": {},
   "outputs": [
    {
     "data": {
      "text/plain": [
       "False"
      ]
     },
     "execution_count": 6,
     "metadata": {},
     "output_type": "execute_result"
    }
   ],
   "source": [
    "df.duplicated().any()"
   ]
  },
  {
   "cell_type": "code",
   "execution_count": 7,
   "metadata": {},
   "outputs": [
    {
     "data": {
      "text/plain": [
       "7"
      ]
     },
     "execution_count": 7,
     "metadata": {},
     "output_type": "execute_result"
    }
   ],
   "source": [
    "df['Mat_HB'].nunique()"
   ]
  },
  {
   "cell_type": "markdown",
   "metadata": {},
   "source": [
    "The data set have overall data for 7 alloys. for each alloy the PDAS is calculated based on different values of V and G."
   ]
  },
  {
   "cell_type": "code",
   "execution_count": 8,
   "metadata": {},
   "outputs": [
    {
     "name": "stdout",
     "output_type": "stream",
     "text": [
      "[2.02e-14 3.37e-14 3.51e-14 5.85e-15 2.30e-15 4.33e-15 5.11e-15]\n"
     ]
    }
   ],
   "source": [
    "print(df[\"Mat_HB\"].unique())"
   ]
  },
  {
   "cell_type": "code",
   "execution_count": 9,
   "metadata": {},
   "outputs": [],
   "source": [
    "# We need a new column showing the alloy name\n",
    "# we know Mat_HB of 2.02e-14 3.37e-14 3.51e-14 5.85e-15 2.30e-15 4.33e-15 5.11e-15 belonds to Ti-3.4%Ni, Ti-7.1%Ni, Ti-10.6%Ni, \n",
    "# Mg-9 at% Al, Al-6 at%Cu, Al-8 at%Cu, and Al-10 at%Cu\n",
    "\n",
    "conditions=[np.logical_and(df[\"Mat_HB\"].gt(2.01e-14),df[\"Mat_HB\"].lt(2.03e-14)),\n",
    "            np.logical_and(df[\"Mat_HB\"].gt(3.36e-14),df[\"Mat_HB\"].lt(3.38e-14)),\n",
    "            np.logical_and(df[\"Mat_HB\"].gt(3.50e-14),df[\"Mat_HB\"].lt(3.52e-14)),\n",
    "            np.logical_and(df[\"Mat_HB\"].gt(5.84e-15),df[\"Mat_HB\"].lt(5.86e-15)),\n",
    "            np.logical_and(df[\"Mat_HB\"].gt(2.29e-15),df[\"Mat_HB\"].lt(2.31e-15)),\n",
    "            np.logical_and(df[\"Mat_HB\"].gt(4.32e-15),df[\"Mat_HB\"].lt(4.34e-15)),\n",
    "            np.logical_and(df[\"Mat_HB\"].gt(5.10e-15),df[\"Mat_HB\"].lt(5.12e-15))]\n",
    "outputs=[\"Ti-3.4 at% Ni\",\"Ti-7.1 at% Ni\",\"Ti-10.7 at% Ni\",\"Mg- 9 at% Al\",\"Al-6 at% Cu\",\"Al-8 at% Cu\",\"Al-10 at% Cu\"]\n",
    "df[\"Alloy\"]=pd.Series(np.select(conditions,outputs,\"alloy\"))\n"
   ]
  },
  {
   "cell_type": "code",
   "execution_count": 10,
   "metadata": {},
   "outputs": [
    {
     "data": {
      "text/html": [
       "<div>\n",
       "<style scoped>\n",
       "    .dataframe tbody tr th:only-of-type {\n",
       "        vertical-align: middle;\n",
       "    }\n",
       "\n",
       "    .dataframe tbody tr th {\n",
       "        vertical-align: top;\n",
       "    }\n",
       "\n",
       "    .dataframe thead th {\n",
       "        text-align: right;\n",
       "    }\n",
       "</style>\n",
       "<table border=\"1\" class=\"dataframe\">\n",
       "  <thead>\n",
       "    <tr style=\"text-align: right;\">\n",
       "      <th></th>\n",
       "      <th>V</th>\n",
       "      <th>G</th>\n",
       "      <th>Mat_HB</th>\n",
       "      <th>Mat_KF</th>\n",
       "      <th>PDAS</th>\n",
       "      <th>Alloy</th>\n",
       "    </tr>\n",
       "  </thead>\n",
       "  <tbody>\n",
       "    <tr>\n",
       "      <th>0</th>\n",
       "      <td>0.01</td>\n",
       "      <td>10000000.0</td>\n",
       "      <td>2.020000e-14</td>\n",
       "      <td>2.570000e-13</td>\n",
       "      <td>2.468570e-06</td>\n",
       "      <td>Ti-3.4 at% Ni</td>\n",
       "    </tr>\n",
       "    <tr>\n",
       "      <th>1</th>\n",
       "      <td>0.02</td>\n",
       "      <td>10000000.0</td>\n",
       "      <td>2.020000e-14</td>\n",
       "      <td>2.570000e-13</td>\n",
       "      <td>2.160000e-06</td>\n",
       "      <td>Ti-3.4 at% Ni</td>\n",
       "    </tr>\n",
       "    <tr>\n",
       "      <th>2</th>\n",
       "      <td>0.03</td>\n",
       "      <td>10000000.0</td>\n",
       "      <td>2.020000e-14</td>\n",
       "      <td>2.570000e-13</td>\n",
       "      <td>1.080000e-06</td>\n",
       "      <td>Ti-3.4 at% Ni</td>\n",
       "    </tr>\n",
       "    <tr>\n",
       "      <th>3</th>\n",
       "      <td>0.04</td>\n",
       "      <td>10000000.0</td>\n",
       "      <td>2.020000e-14</td>\n",
       "      <td>2.570000e-13</td>\n",
       "      <td>9.257140e-07</td>\n",
       "      <td>Ti-3.4 at% Ni</td>\n",
       "    </tr>\n",
       "    <tr>\n",
       "      <th>4</th>\n",
       "      <td>0.05</td>\n",
       "      <td>10000000.0</td>\n",
       "      <td>2.020000e-14</td>\n",
       "      <td>2.570000e-13</td>\n",
       "      <td>8.100000e-07</td>\n",
       "      <td>Ti-3.4 at% Ni</td>\n",
       "    </tr>\n",
       "  </tbody>\n",
       "</table>\n",
       "</div>"
      ],
      "text/plain": [
       "      V           G        Mat_HB        Mat_KF          PDAS          Alloy\n",
       "0  0.01  10000000.0  2.020000e-14  2.570000e-13  2.468570e-06  Ti-3.4 at% Ni\n",
       "1  0.02  10000000.0  2.020000e-14  2.570000e-13  2.160000e-06  Ti-3.4 at% Ni\n",
       "2  0.03  10000000.0  2.020000e-14  2.570000e-13  1.080000e-06  Ti-3.4 at% Ni\n",
       "3  0.04  10000000.0  2.020000e-14  2.570000e-13  9.257140e-07  Ti-3.4 at% Ni\n",
       "4  0.05  10000000.0  2.020000e-14  2.570000e-13  8.100000e-07  Ti-3.4 at% Ni"
      ]
     },
     "execution_count": 10,
     "metadata": {},
     "output_type": "execute_result"
    }
   ],
   "source": [
    "# OUR equation will have the following format PDAS=A (V)^alpha (G)^beta (matprop)^gamma. To make this easier to change to\n",
    "# a regression model, \n",
    "# we will first deside the dependent variable as PDAS and then We will take ln of all the columns and add it to a new column\n",
    "#and move forward with that\n",
    "df.head()"
   ]
  },
  {
   "cell_type": "code",
   "execution_count": 11,
   "metadata": {
    "colab": {},
    "colab_type": "code",
    "id": "NAL3KUn-GqkH"
   },
   "outputs": [
    {
     "data": {
      "text/plain": [
       "count    2.500000e+02\n",
       "mean     2.573232e-06\n",
       "std      6.532639e-06\n",
       "min      1.322670e-07\n",
       "25%      4.926000e-07\n",
       "50%      8.134800e-07\n",
       "75%      1.470000e-06\n",
       "max      6.294750e-05\n",
       "Name: PDAS, dtype: float64"
      ]
     },
     "execution_count": 11,
     "metadata": {},
     "output_type": "execute_result"
    }
   ],
   "source": [
    "# Get a basic statistical summary of the dependent variable \n",
    "#PDAS is our fixed dependent variable\n",
    "df[\"PDAS\"].describe()"
   ]
  }
 ],
 "metadata": {
  "colab": {
   "collapsed_sections": [],
   "name": "Springboard Regression Case Study, Unit 8 - the Red Wine Dataset - Tier 3.ipynb",
   "provenance": []
  },
  "kernelspec": {
   "display_name": "Python 3 (ipykernel)",
   "language": "python",
   "name": "python3"
  },
  "language_info": {
   "codemirror_mode": {
    "name": "ipython",
    "version": 3
   },
   "file_extension": ".py",
   "mimetype": "text/x-python",
   "name": "python",
   "nbconvert_exporter": "python",
   "pygments_lexer": "ipython3",
   "version": "3.9.7"
  }
 },
 "nbformat": 4,
 "nbformat_minor": 4
}
