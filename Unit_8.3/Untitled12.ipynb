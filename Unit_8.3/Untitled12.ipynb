{
 "cells": [
  {
   "cell_type": "code",
   "execution_count": 1,
   "id": "29f64e25",
   "metadata": {},
   "outputs": [],
   "source": [
    "import sqlite3 \n",
    "import pandas as pd "
   ]
  },
  {
   "cell_type": "markdown",
   "id": "723111f1",
   "metadata": {},
   "source": [
    "/* PART 2: SQLite\n",
    "\n",
    "Export the country club data from PHPMyAdmin, and connect to a local SQLite instance from Jupyter notebook \n",
    "for the following questions.  "
   ]
  },
  {
   "cell_type": "code",
   "execution_count": 2,
   "id": "d4251905",
   "metadata": {},
   "outputs": [],
   "source": [
    "con = sqlite3.connect(\"sqlite_db_pythonsqlite.db\")\n",
    "cur = con.cursor()"
   ]
  },
  {
   "cell_type": "markdown",
   "id": "813425af",
   "metadata": {},
   "source": [
    "/* Q10: Produce a list of facilities with a total revenue less than 1000.\n",
    "The output of facility name and total revenue, sorted by revenue. Remember\n",
    "that there's a different cost for guests and members! */"
   ]
  },
  {
   "cell_type": "code",
   "execution_count": 3,
   "id": "d828df4e",
   "metadata": {},
   "outputs": [
    {
     "data": {
      "text/plain": [
       "[('Pool Table', 270), ('Snooker Table', 240), ('Table Tennis', 180)]"
      ]
     },
     "execution_count": 3,
     "metadata": {},
     "output_type": "execute_result"
    }
   ],
   "source": [
    "q1='''select name, revenue from (select f.name as name,sum(case when b.memid!=0 then f.membercost*b.slots when b.memid=0 then f.guestcost*b.slots END) as revenue\n",
    "from Bookings as b left join Facilities as f on b.facid=f.facid group by name) where revenue<1000'''\n",
    "cur.execute(q1)\n",
    "cur.fetchall()\n"
   ]
  },
  {
   "cell_type": "markdown",
   "id": "11c099bb",
   "metadata": {},
   "source": [
    "/* Q11: Produce a report of members and who recommended them in alphabetic surname,firstname order */"
   ]
  },
  {
   "cell_type": "code",
   "execution_count": 4,
   "id": "43d287b0",
   "metadata": {},
   "outputs": [
    {
     "data": {
      "text/plain": [
       "[('Florence', 'Bader', 'Ponder', 'Stibbons'),\n",
       " ('Anne', 'Baker', 'Ponder', 'Stibbons'),\n",
       " ('Timothy', 'Baker', 'Jemima', 'Farrell'),\n",
       " ('Tim', 'Boothe', 'Tim', 'Rownam'),\n",
       " ('Gerald', 'Butters', 'Darren', 'Smith'),\n",
       " ('Joan', 'Coplin', 'Timothy', 'Baker'),\n",
       " ('Erica', 'Crumpet', 'Tracy', 'Smith'),\n",
       " ('Nancy', 'Dare', 'Janice', 'Joplette'),\n",
       " ('David', 'Farrell', None, None),\n",
       " ('Jemima', 'Farrell', None, None),\n",
       " ('Matthew', 'Genting', 'Gerald', 'Butters'),\n",
       " ('John', 'Hunt', 'Millicent', 'Purview'),\n",
       " ('David', 'Jones', 'Janice', 'Joplette'),\n",
       " ('Douglas', 'Jones', 'David', 'Jones'),\n",
       " ('Janice', 'Joplette', 'Darren', 'Smith'),\n",
       " ('Anna', 'Mackenzie', 'Darren', 'Smith'),\n",
       " ('Charles', 'Owen', 'Darren', 'Smith'),\n",
       " ('David', 'Pinker', 'Jemima', 'Farrell'),\n",
       " ('Millicent', 'Purview', 'Tracy', 'Smith'),\n",
       " ('Tim', 'Rownam', None, None),\n",
       " ('Henrietta', 'Rumney', 'Matthew', 'Genting'),\n",
       " ('Ramnaresh', 'Sarwin', 'Florence', 'Bader'),\n",
       " ('Darren', 'Smith', None, None),\n",
       " ('Darren', 'Smith', None, None),\n",
       " ('Jack', 'Smith', 'Darren', 'Smith'),\n",
       " ('Tracy', 'Smith', None, None),\n",
       " ('Ponder', 'Stibbons', 'Burton', 'Tracy'),\n",
       " ('Burton', 'Tracy', None, None),\n",
       " ('Hyacinth', 'Tupperware', None, None),\n",
       " ('Henry', 'Worthington-Smyth', 'Tracy', 'Smith')]"
      ]
     },
     "execution_count": 4,
     "metadata": {},
     "output_type": "execute_result"
    }
   ],
   "source": [
    "q2=''' \n",
    "SELECT m2.firstname as member_firstname, m2.surname as member_surname,\n",
    "(select firstname from members as m1 where m1.memid = m2.recommendedby) as recommender_firstname,\n",
    "(select surname from members as m1 where m1.memid = m2.recommendedby) as recommender_surname\n",
    " from members as m2\n",
    " WHERE m2.memid != 0\n",
    "ORDER BY surname, firstname;\n",
    "\n",
    "'''\n",
    "cur.execute(q2)\n",
    "cur.fetchall()\n",
    "#con.close()"
   ]
  },
  {
   "cell_type": "markdown",
   "id": "3fbd7272",
   "metadata": {},
   "source": [
    "/* Q12: Find the facilities with their usage by member, but not guests */"
   ]
  },
  {
   "cell_type": "code",
   "execution_count": 6,
   "id": "e3a90623",
   "metadata": {},
   "outputs": [
    {
     "data": {
      "text/plain": [
       "[('Badminton Court', 344),\n",
       " ('Massage Room 1', 421),\n",
       " ('Massage Room 2', 27),\n",
       " ('Pool Table', 783),\n",
       " ('Snooker Table', 421),\n",
       " ('Squash Court', 195),\n",
       " ('Table Tennis', 385),\n",
       " ('Tennis Court 1', 308),\n",
       " ('Tennis Court 2', 276)]"
      ]
     },
     "execution_count": 6,
     "metadata": {},
     "output_type": "execute_result"
    }
   ],
   "source": [
    "q1='''select name, count(*) as usage from Bookings as b left join Facilities as f on b.facid=f.facid where b.memid!=0 group by name'''\n",
    "cur.execute(q1)\n",
    "cur.fetchall()"
   ]
  },
  {
   "cell_type": "code",
   "execution_count": 7,
   "id": "2011e257",
   "metadata": {},
   "outputs": [
    {
     "data": {
      "text/plain": [
       "[('Badminton Court', '2012-07', 51),\n",
       " ('Badminton Court', '2012-08', 132),\n",
       " ('Badminton Court', '2012-09', 161),\n",
       " ('Massage Room 1', '2012-07', 77),\n",
       " ('Massage Room 1', '2012-08', 153),\n",
       " ('Massage Room 1', '2012-09', 191),\n",
       " ('Massage Room 2', '2012-07', 4),\n",
       " ('Massage Room 2', '2012-08', 9),\n",
       " ('Massage Room 2', '2012-09', 14),\n",
       " ('Pool Table', '2012-07', 103),\n",
       " ('Pool Table', '2012-08', 272),\n",
       " ('Pool Table', '2012-09', 408),\n",
       " ('Snooker Table', '2012-07', 68),\n",
       " ('Snooker Table', '2012-08', 154),\n",
       " ('Snooker Table', '2012-09', 199),\n",
       " ('Squash Court', '2012-07', 23),\n",
       " ('Squash Court', '2012-08', 85),\n",
       " ('Squash Court', '2012-09', 87),\n",
       " ('Table Tennis', '2012-07', 48),\n",
       " ('Table Tennis', '2012-08', 143),\n",
       " ('Table Tennis', '2012-09', 194),\n",
       " ('Tennis Court 1', '2012-07', 65),\n",
       " ('Tennis Court 1', '2012-08', 111),\n",
       " ('Tennis Court 1', '2012-09', 132),\n",
       " ('Tennis Court 2', '2012-07', 41),\n",
       " ('Tennis Court 2', '2012-08', 109),\n",
       " ('Tennis Court 2', '2012-09', 126)]"
      ]
     },
     "execution_count": 7,
     "metadata": {},
     "output_type": "execute_result"
    }
   ],
   "source": [
    "q1='''select name,(strftime('%Y-%m', starttime)) as month_count, count(*) as usage from Bookings as b left join Facilities as f on b.facid=f.facid where b.memid!=0 group by name, month_count'''\n",
    "cur.execute(q1)\n",
    "cur.fetchall()"
   ]
  },
  {
   "cell_type": "code",
   "execution_count": null,
   "id": "44a86feb",
   "metadata": {},
   "outputs": [],
   "source": []
  }
 ],
 "metadata": {
  "kernelspec": {
   "display_name": "Python 3 (ipykernel)",
   "language": "python",
   "name": "python3"
  },
  "language_info": {
   "codemirror_mode": {
    "name": "ipython",
    "version": 3
   },
   "file_extension": ".py",
   "mimetype": "text/x-python",
   "name": "python",
   "nbconvert_exporter": "python",
   "pygments_lexer": "ipython3",
   "version": "3.9.7"
  }
 },
 "nbformat": 4,
 "nbformat_minor": 5
}
